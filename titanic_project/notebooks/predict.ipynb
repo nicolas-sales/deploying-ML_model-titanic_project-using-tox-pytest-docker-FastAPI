{
 "cells": [
  {
   "cell_type": "code",
   "execution_count": null,
   "id": "4b4a0232",
   "metadata": {},
   "outputs": [],
   "source": [
    "import joblib\n",
    "from titanic_model.train import train_model\n",
    "from titanic_model.evaluation import evaluate_model\n",
    "\n",
    "def make_prediction(pipeline, X_test):\n",
    "    class_preds = pipeline.predict(X_test)\n",
    "    prob_preds = pipeline.predict_proba(X_test)[:, -1]\n",
    "    return class_preds, prob_preds\n",
    "\n",
    "if __name__ == \"__main__\":\n",
    "\n",
    "    file_path = r\"C:\\Users\\nico_\\Desktop\\repos\\titanic_project\\titanic_model\\dataset\\titanic.csv\"\n",
    "    _, X_test, y_test = train_model(file_path)\n",
    "\n",
    "    model_path = 'titanic_pipeline.pkl'\n",
    "    pipeline = joblib.load(model_path)\n",
    "\n",
    "    class_preds, prob_preds = make_prediction(pipeline, X_test)\n",
    "\n",
    "    evaluate_model(y_test, class_preds, prob_preds)"
   ]
  }
 ],
 "metadata": {
  "kernelspec": {
   "display_name": "Python 3 (ipykernel)",
   "language": "python",
   "name": "python3"
  },
  "language_info": {
   "codemirror_mode": {
    "name": "ipython",
    "version": 3
   },
   "file_extension": ".py",
   "mimetype": "text/x-python",
   "name": "python",
   "nbconvert_exporter": "python",
   "pygments_lexer": "ipython3",
   "version": "3.11.5"
  }
 },
 "nbformat": 4,
 "nbformat_minor": 5
}
