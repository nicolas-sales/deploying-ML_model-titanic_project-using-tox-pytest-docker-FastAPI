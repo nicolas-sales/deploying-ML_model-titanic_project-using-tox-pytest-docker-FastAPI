{
 "cells": [
  {
   "cell_type": "code",
   "execution_count": null,
   "id": "f805bd6b",
   "metadata": {},
   "outputs": [],
   "source": [
    "# Répertoire parent au PYTHONPATH, garantit que les modules sont accessibles peu importe d'où le script est exécuté\n",
    "import sys\n",
    "import os\n",
    "sys.path.append(os.path.abspath(os.path.join(os.path.dirname(__file__), '..')))\n",
    "\n",
    "from titanic_model.data_processing import (\n",
    "    ExtractLetterTransformer,\n",
    "    NUMERICAL_VARIABLES,\n",
    "    CATEGORICAL_VARIABLES,\n",
    "    CABIN\n",
    ")\n",
    "\n",
    "from sklearn.pipeline import Pipeline\n",
    "from sklearn.preprocessing import StandardScaler\n",
    "from sklearn.linear_model import LogisticRegression\n",
    "\n",
    "from feature_engine.imputation import (\n",
    "    CategoricalImputer,\n",
    "    AddMissingIndicator,\n",
    "    MeanMedianImputer)\n",
    "\n",
    "from feature_engine.encoding import (\n",
    "    RareLabelEncoder,\n",
    "    OneHotEncoder)\n",
    "\n",
    "def create_pipeline():\n",
    "    titanic_pipeline = Pipeline([\n",
    "        ('categorical_imputation', CategoricalImputer(\n",
    "            imputation_method='missing', variables=CATEGORICAL_VARIABLES)),\n",
    "        ('missing_indicator', AddMissingIndicator(variables=NUMERICAL_VARIABLES)),\n",
    "        ('median_imputation', MeanMedianImputer(\n",
    "            imputation_method='median', variables=NUMERICAL_VARIABLES)),\n",
    "        ('extract_letter', ExtractLetterTransformer(variables=CABIN)),\n",
    "        ('rare_label_encoder', RareLabelEncoder(\n",
    "            tol=0.05, n_categories=1, variables=CATEGORICAL_VARIABLES)),\n",
    "        ('categorical_encoder', OneHotEncoder(\n",
    "            drop_last=True, variables=CATEGORICAL_VARIABLES)),\n",
    "        ('scaler', StandardScaler()),\n",
    "        ('Logit', LogisticRegression()),\n",
    "    ])\n",
    "    return titanic_pipeline"
   ]
  }
 ],
 "metadata": {
  "kernelspec": {
   "display_name": "Python 3 (ipykernel)",
   "language": "python",
   "name": "python3"
  },
  "language_info": {
   "codemirror_mode": {
    "name": "ipython",
    "version": 3
   },
   "file_extension": ".py",
   "mimetype": "text/x-python",
   "name": "python",
   "nbconvert_exporter": "python",
   "pygments_lexer": "ipython3",
   "version": "3.11.5"
  }
 },
 "nbformat": 4,
 "nbformat_minor": 5
}
