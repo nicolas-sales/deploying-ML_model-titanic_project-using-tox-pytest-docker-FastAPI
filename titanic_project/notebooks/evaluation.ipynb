{
 "cells": [
  {
   "cell_type": "code",
   "execution_count": null,
   "id": "ddafba7b",
   "metadata": {},
   "outputs": [],
   "source": [
    "from sklearn.metrics import accuracy_score, roc_auc_score\n",
    "\n",
    "def evaluate_model(y_true, class_preds, prob_preds):\n",
    "    # ROC-AUC score\n",
    "    roc_auc = roc_auc_score(y_true, prob_preds)\n",
    "    print('ROC-AUC score: {:.4f}'.format(roc_auc))\n",
    "    \n",
    "    # Accuracy score\n",
    "    accuracy = accuracy_score(y_true, class_preds)\n",
    "    print('Accuracy score: {:.4f}'.format(accuracy))"
   ]
  }
 ],
 "metadata": {
  "kernelspec": {
   "display_name": "Python 3 (ipykernel)",
   "language": "python",
   "name": "python3"
  },
  "language_info": {
   "codemirror_mode": {
    "name": "ipython",
    "version": 3
   },
   "file_extension": ".py",
   "mimetype": "text/x-python",
   "name": "python",
   "nbconvert_exporter": "python",
   "pygments_lexer": "ipython3",
   "version": "3.11.5"
  }
 },
 "nbformat": 4,
 "nbformat_minor": 5
}
