{
 "cells": [
  {
   "cell_type": "code",
   "execution_count": null,
   "id": "ae01102d",
   "metadata": {},
   "outputs": [],
   "source": [
    "import pandas as pd\n",
    "from sklearn.model_selection import train_test_split\n",
    "from titanic_model.load_data import load_data\n",
    "from titanic_model.pipeline import create_pipeline\n",
    "import joblib\n",
    "\n",
    "def split_data(data, test_size=0.2, random_state=0):\n",
    "    X = data.drop('Survived', axis=1)\n",
    "    y = data['Survived']\n",
    "    X_train, X_test, y_train, y_test = train_test_split(X, y, test_size=test_size, random_state=random_state)\n",
    "    return X_train, X_test, y_train, y_test\n",
    "\n",
    "def train_model(file_path):\n",
    "    data = load_data(file_path)\n",
    "    X_train, X_test, y_train, y_test = split_data(data)\n",
    "\n",
    "    pipeline = create_pipeline()\n",
    "    pipeline.fit(X_train, y_train)\n",
    "\n",
    "    joblib.dump(pipeline, 'titanic_pipeline.pkl')\n",
    "\n",
    "    return pipeline, X_test, y_test\n",
    "\n",
    "if __name__ == \"__main__\":\n",
    "    file_path = r\"C:\\Users\\nico_\\Desktop\\repos\\titanic_project\\titanic_model\\dataset\\titanic.csv\"\n",
    "    pipeline, X_test, y_test = train_model(file_path)"
   ]
  }
 ],
 "metadata": {
  "kernelspec": {
   "display_name": "Python 3 (ipykernel)",
   "language": "python",
   "name": "python3"
  },
  "language_info": {
   "codemirror_mode": {
    "name": "ipython",
    "version": 3
   },
   "file_extension": ".py",
   "mimetype": "text/x-python",
   "name": "python",
   "nbconvert_exporter": "python",
   "pygments_lexer": "ipython3",
   "version": "3.11.5"
  }
 },
 "nbformat": 4,
 "nbformat_minor": 5
}
